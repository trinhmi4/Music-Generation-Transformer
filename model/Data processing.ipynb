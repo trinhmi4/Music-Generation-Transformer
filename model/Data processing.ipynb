{
  "nbformat": 4,
  "nbformat_minor": 0,
  "metadata": {
    "colab": {
      "provenance": [],
      "machine_shape": "hm"
    },
    "kernelspec": {
      "name": "python3",
      "display_name": "Python 3"
    },
    "language_info": {
      "name": "python"
    },
    "gpuClass": "premium",
    "accelerator": "GPU"
  },
  "cells": [
    {
      "cell_type": "code",
      "source": [
        "!pip install music21"
      ],
      "metadata": {
        "id": "3eXrZir4g6dX"
      },
      "execution_count": null,
      "outputs": []
    },
    {
      "cell_type": "code",
      "source": [
        "!pip install mido"
      ],
      "metadata": {
        "id": "ZP4K1b6Ipge1"
      },
      "execution_count": null,
      "outputs": []
    },
    {
      "cell_type": "code",
      "source": [
        "!apt install fluidsynth\n",
        "!cp /usr/share/sounds/sf2/FluidR3_GM.sf2 ./font.sf2\n",
        "!pip install midi2audio"
      ],
      "metadata": {
        "id": "LOGfHB9iuBNx"
      },
      "execution_count": null,
      "outputs": []
    },
    {
      "cell_type": "code",
      "source": [
        "import os\n",
        "import random\n",
        "import music21\n",
        "import numpy as np\n",
        "from music21 import converter\n",
        "import pandas as pd\n",
        "import numpy as np\n",
        "import matplotlib.pyplot as plt"
      ],
      "metadata": {
        "id": "Zh1ZLItKg9AJ"
      },
      "execution_count": 11,
      "outputs": []
    },
    {
      "cell_type": "code",
      "source": [
        "from google.colab import drive\n",
        "drive.mount('/content/drive')"
      ],
      "metadata": {
        "id": "wu2H4fng8d-R"
      },
      "execution_count": null,
      "outputs": []
    },
    {
      "cell_type": "markdown",
      "source": [
        "**Importing Data**"
      ],
      "metadata": {
        "id": "2TSkAylS8c4L"
      }
    },
    {
      "cell_type": "code",
      "source": [
        "midi_folder = \"/content/drive/MyDrive/midi_100\"\n",
        "\n",
        "dataset_files = []\n",
        "i= 0\n",
        "for f in os.listdir(midi_folder):\n",
        "  if i <= 50:\n",
        "    if f !=\".ipynb_checkpoints\":\n",
        "      dataset_files.append(os.path.join(midi_folder, f))\n",
        "  else:\n",
        "    break\n",
        "  i += 1"
      ],
      "metadata": {
        "id": "ma95vgNkg3Wr"
      },
      "execution_count": 12,
      "outputs": []
    },
    {
      "cell_type": "code",
      "source": [
        "from midi2audio import FluidSynth\n",
        "from IPython.display import Audio\n",
        "\n",
        "def play_midi(midi_filename):\n",
        "    \"\"\"Call `play_midi` with a path to a midi file will show a midi player on Google Colab.\"\"\"\n",
        "    FluidSynth(\"font.sf2\").midi_to_audio(midi_filename, 'test.wav')\n",
        "    return Audio(\"test.wav\")"
      ],
      "metadata": {
        "id": "Ps4HAqSnq4MA"
      },
      "execution_count": 17,
      "outputs": []
    },
    {
      "cell_type": "code",
      "source": [
        "from mido import MidiFile, MidiTrack\n",
        "\n",
        "def get_midi_file_notes(filename):\n",
        "    \"\"\"Returns the sequence of notes played in the midi file\n",
        "    There are 128 possible notes on a MIDI device, and they are numbered 0 to 127.\n",
        "    The middle C is note number 60. Larger numbers indiciate higher pitch notes,\n",
        "    and lower numbers indicate lower pitch notes.\n",
        "\n",
        "    You can read more about the midi representation below, but it is not\n",
        "    necessary for this assignment.\n",
        "    http://midi.teragonaudio.com/tech/midispec/noteon.htm\n",
        "    \"\"\"\n",
        "    notes = []\n",
        "    for msg in  MidiFile(filename):\n",
        "        if msg.type == 'note_on':\n",
        "            notes.append(msg.note)\n",
        "    return notes"
      ],
      "metadata": {
        "id": "Ga0nQB7zpYTr"
      },
      "execution_count": 18,
      "outputs": []
    },
    {
      "cell_type": "markdown",
      "source": [
        "**DATA SUMMARY**"
      ],
      "metadata": {
        "id": "TwDYnNU-9bum"
      }
    },
    {
      "cell_type": "code",
      "source": [
        "song_length = []\n",
        "for f in dataset_files:\n",
        "  notes_list = get_midi_file_notes(f)\n",
        "  song_length.append(len(notes_list))\n",
        "print(song_length)\n",
        "series = pd.Series(song_length)\n",
        "series.describe()\n",
        "plt.hist(series)\n",
        "plt.show()"
      ],
      "metadata": {
        "id": "7jBHrtFeAvVj"
      },
      "execution_count": null,
      "outputs": []
    },
    {
      "cell_type": "markdown",
      "source": [
        "**REMOVING OUTLIERS**"
      ],
      "metadata": {
        "id": "-B7IMMnKKles"
      }
    },
    {
      "cell_type": "code",
      "source": [
        "Q3 = 8489 \n",
        "IQR = 8489 - 3548.5\n",
        "cut_off = Q3 + 1.5*IQR\n",
        "song_length = []\n",
        "remove_list = []\n",
        "for f in dataset_files:\n",
        "  notes_list = get_midi_file_notes(f)\n",
        "  if len(notes_list) <= cut_off:\n",
        "    song_length.append(len(notes_list))\n",
        "  else:\n",
        "    remove_list.append(f)"
      ],
      "metadata": {
        "id": "I8YfJdlZJjRn"
      },
      "execution_count": 19,
      "outputs": []
    },
    {
      "cell_type": "code",
      "source": [
        "for f in remove_list:\n",
        "  dataset_files.remove(f)\n",
        "len(dataset_files)"
      ],
      "metadata": {
        "colab": {
          "base_uri": "https://localhost:8080/"
        },
        "id": "Mn3OI5A4Qfif",
        "outputId": "dba3778a-8a40-4564-aa51-9ab632b5ed37"
      },
      "execution_count": 20,
      "outputs": [
        {
          "output_type": "execute_result",
          "data": {
            "text/plain": [
              "46"
            ]
          },
          "metadata": {},
          "execution_count": 20
        }
      ]
    },
    {
      "cell_type": "code",
      "source": [
        "series = pd.Series(song_length)\n",
        "series.describe()\n",
        "plt.hist(series)\n",
        "plt.show()"
      ],
      "metadata": {
        "id": "l-CZs5tTA8OX"
      },
      "execution_count": null,
      "outputs": []
    },
    {
      "cell_type": "code",
      "source": [
        "note_freq = []\n",
        "i = 0\n",
        "for f in dataset_files:\n",
        "  notes_list = get_midi_file_notes(f)\n",
        "  note_freq.extend(notes_list)\n",
        "  i += 1\n",
        "print(i)\n",
        "note_frequency = pd.Series(note_freq)\n",
        "plt.hist(note_frequency)\n",
        "plt.show()\n",
        "note_frequency.mode(dropna=True)"
      ],
      "metadata": {
        "id": "w0Dft88MA_Qd"
      },
      "execution_count": null,
      "outputs": []
    },
    {
      "cell_type": "markdown",
      "source": [
        "**DATA TRANSFORMATION**"
      ],
      "metadata": {
        "id": "BwFpsRjuLPpA"
      }
    },
    {
      "cell_type": "code",
      "source": [
        "CONTEXT_LENGTH = 40\n",
        "def gen_input_output(notes, context_length=CONTEXT_LENGTH):\n",
        "    \"\"\"\n",
        "    Generate a list of training data points, each of the form (x, t),\n",
        "    where \"x\" is a list of length `context_length` consisting of the\n",
        "    previous notes, and \"t\" is the corresponding next note.\n",
        "\n",
        "    Parameters:\n",
        "        `notes` - a sequence of notes in a piece, generated\n",
        "                  from calling `get_midi_file_notes`\n",
        "        `context_length` - length of each context\n",
        "\n",
        "    Returns: a list of training pairs (x, t), with len(x) == context_length\n",
        "    \"\"\"\n",
        "    D = []\n",
        "    for i in range(len(notes) - context_length):\n",
        "        seq = notes[i:i+context_length]\n",
        "        next_note = notes[i+context_length]\n",
        "        D.append((seq, next_note),)\n",
        "    \n",
        "    D.append((notes[-context_length:], 0),)\n",
        "    # Since the note 0 never appears in any of our pieces,\n",
        "    # we use note 0 to denote END OF SONG. In general, we choose\n",
        "    # a special value to denote the END OF SONG (usually a new\n",
        "    # category that doesn't match an actual note), so that our\n",
        "    # model might learn to end a song.\n",
        "    return D"
      ],
      "metadata": {
        "id": "g46R7Ko5rCjB"
      },
      "execution_count": 21,
      "outputs": []
    },
    {
      "cell_type": "code",
      "source": [
        "def make_onehot(indicies, total=128):\n",
        "    \"\"\"\n",
        "    Convert indicies into one-hot vectors by\n",
        "    first creating an identity matrix of shape [total, total],\n",
        "    then indexing the appropriate columns of that identity matrix.\n",
        "\n",
        "    Parameters:\n",
        "        `indices` - a numpy array of some shape where \n",
        "                    the value in these arrays should correspond to category\n",
        "                    indices (e.g. note values between 0-127)\n",
        "        `total` - the total number of categories (e.g. total number of notes)\n",
        "\n",
        "    Returns: a numpy array of one-hot vectors\n",
        "        If the `indices` array is shaped (N,)\n",
        "           then the returned array will be shaped (N, total)\n",
        "        If the `indices` array is shaped (N, D)\n",
        "           then the returned array will be shaped (N, D, total)\n",
        "        ... and so on.\n",
        "    \"\"\"\n",
        "    I = np.eye(total)\n",
        "    return I[indicies]"
      ],
      "metadata": {
        "id": "jaBi7vkS1cPA"
      },
      "execution_count": 22,
      "outputs": []
    },
    {
      "cell_type": "code",
      "source": [
        "def get_X_t(D):\n",
        "    \"\"\"\n",
        "    Generate the data matrix \"X\" and target vector \"t\" from a data set \"D\",\n",
        "\n",
        "    Parameters:\n",
        "        `D` - a list of pairs of the form (x, t), returned from\n",
        "              the function `gen_input_output`\n",
        "\n",
        "    Returns: a tuple (X, t) where\n",
        "        `X` - a numpy array of shape (N, D), the data matrix\n",
        "        `t` - a numpy array of shape (N,),\n",
        "              with each value representing the index of the target note\n",
        "    \"\"\"\n",
        "    t = np.array([next_note for seq, next_note in D])\n",
        "    X_ids = np.array([seq for seq, next_note in D])\n",
        "    X = make_onehot(X_ids)\n",
        "    X = X.reshape(X.shape[0], -1)\n",
        "    return X,t "
      ],
      "metadata": {
        "id": "DdqMP0FY1-2h"
      },
      "execution_count": 23,
      "outputs": []
    },
    {
      "cell_type": "code",
      "source": [
        "def generate_data_for_files(files):\n",
        "    Xs, ts = [], []\n",
        "    for file in files:\n",
        "        try:\n",
        "          notes = get_midi_file_notes(file)\n",
        "          D = gen_input_output(notes)\n",
        "          X, t = get_X_t(D)\n",
        "          Xs.append(X)\n",
        "          ts.append(t)\n",
        "        except Exception as e:\n",
        "          print(f\"song:{file}   error:{e}\")\n",
        "    X = np.concatenate(Xs, axis=0)\n",
        "    t = np.concatenate(ts, axis=0)\n",
        "    df = np.concatenate((X, np.reshape(t, (-1, 1))), axis = 1)\n",
        "    return X, t, df"
      ],
      "metadata": {
        "id": "LJbtvk8g2Qfn"
      },
      "execution_count": 24,
      "outputs": []
    },
    {
      "cell_type": "code",
      "source": [
        "X_train, t_train, df_train = generate_data_for_files(dataset_files[:31])\n",
        "X_val, t_val, df_val = generate_data_for_files(dataset_files[31:41])\n",
        "X_test, t_test, df_test = generate_data_for_files(dataset_files[41:])"
      ],
      "metadata": {
        "id": "QSH0zqxs3KQu"
      },
      "execution_count": 25,
      "outputs": []
    },
    {
      "cell_type": "code",
      "source": [
        "t_train[0] == df_train[0][-1]"
      ],
      "metadata": {
        "colab": {
          "base_uri": "https://localhost:8080/"
        },
        "id": "mrfKtcePonoQ",
        "outputId": "66236116-dbbb-4699-af94-07629db3691e"
      },
      "execution_count": 26,
      "outputs": [
        {
          "output_type": "execute_result",
          "data": {
            "text/plain": [
              "True"
            ]
          },
          "metadata": {},
          "execution_count": 26
        }
      ]
    },
    {
      "cell_type": "code",
      "source": [
        "df_train = pd.DataFrame(df_train)\n",
        "df_val = pd.DataFrame(df_val)\n",
        "df_test = pd.DataFrame(df_test)"
      ],
      "metadata": {
        "id": "wdJxVDn5rpuo"
      },
      "execution_count": 27,
      "outputs": []
    },
    {
      "cell_type": "code",
      "source": [
        "from google.colab import files\n",
        "df_train.to_csv('training.csv', encoding = 'utf-8-sig') \n",
        "files.download('training.csv')"
      ],
      "metadata": {
        "colab": {
          "base_uri": "https://localhost:8080/",
          "height": 17
        },
        "id": "N75x5e1NwMwA",
        "outputId": "0a0361d7-599e-4ca4-80c6-6eb4b35e05e4"
      },
      "execution_count": 30,
      "outputs": [
        {
          "output_type": "display_data",
          "data": {
            "text/plain": [
              "<IPython.core.display.Javascript object>"
            ],
            "application/javascript": [
              "\n",
              "    async function download(id, filename, size) {\n",
              "      if (!google.colab.kernel.accessAllowed) {\n",
              "        return;\n",
              "      }\n",
              "      const div = document.createElement('div');\n",
              "      const label = document.createElement('label');\n",
              "      label.textContent = `Downloading \"${filename}\": `;\n",
              "      div.appendChild(label);\n",
              "      const progress = document.createElement('progress');\n",
              "      progress.max = size;\n",
              "      div.appendChild(progress);\n",
              "      document.body.appendChild(div);\n",
              "\n",
              "      const buffers = [];\n",
              "      let downloaded = 0;\n",
              "\n",
              "      const channel = await google.colab.kernel.comms.open(id);\n",
              "      // Send a message to notify the kernel that we're ready.\n",
              "      channel.send({})\n",
              "\n",
              "      for await (const message of channel.messages) {\n",
              "        // Send a message to notify the kernel that we're ready.\n",
              "        channel.send({})\n",
              "        if (message.buffers) {\n",
              "          for (const buffer of message.buffers) {\n",
              "            buffers.push(buffer);\n",
              "            downloaded += buffer.byteLength;\n",
              "            progress.value = downloaded;\n",
              "          }\n",
              "        }\n",
              "      }\n",
              "      const blob = new Blob(buffers, {type: 'application/binary'});\n",
              "      const a = document.createElement('a');\n",
              "      a.href = window.URL.createObjectURL(blob);\n",
              "      a.download = filename;\n",
              "      div.appendChild(a);\n",
              "      a.click();\n",
              "      div.remove();\n",
              "    }\n",
              "  "
            ]
          },
          "metadata": {}
        },
        {
          "output_type": "display_data",
          "data": {
            "text/plain": [
              "<IPython.core.display.Javascript object>"
            ],
            "application/javascript": [
              "download(\"download_9948d4b8-e212-4774-87b3-c233f326aa98\", \"training.csv\", 3533717981)"
            ]
          },
          "metadata": {}
        }
      ]
    },
    {
      "cell_type": "code",
      "source": [
        "df_val.to_csv('validation.csv', encoding = 'utf-8-sig') \n",
        "files.download('validation.csv')"
      ],
      "metadata": {
        "colab": {
          "base_uri": "https://localhost:8080/",
          "height": 17
        },
        "id": "lSOElGw41HN-",
        "outputId": "eb2b6024-a8d2-4822-db40-d8e4eb723c65"
      },
      "execution_count": 31,
      "outputs": [
        {
          "output_type": "display_data",
          "data": {
            "text/plain": [
              "<IPython.core.display.Javascript object>"
            ],
            "application/javascript": [
              "\n",
              "    async function download(id, filename, size) {\n",
              "      if (!google.colab.kernel.accessAllowed) {\n",
              "        return;\n",
              "      }\n",
              "      const div = document.createElement('div');\n",
              "      const label = document.createElement('label');\n",
              "      label.textContent = `Downloading \"${filename}\": `;\n",
              "      div.appendChild(label);\n",
              "      const progress = document.createElement('progress');\n",
              "      progress.max = size;\n",
              "      div.appendChild(progress);\n",
              "      document.body.appendChild(div);\n",
              "\n",
              "      const buffers = [];\n",
              "      let downloaded = 0;\n",
              "\n",
              "      const channel = await google.colab.kernel.comms.open(id);\n",
              "      // Send a message to notify the kernel that we're ready.\n",
              "      channel.send({})\n",
              "\n",
              "      for await (const message of channel.messages) {\n",
              "        // Send a message to notify the kernel that we're ready.\n",
              "        channel.send({})\n",
              "        if (message.buffers) {\n",
              "          for (const buffer of message.buffers) {\n",
              "            buffers.push(buffer);\n",
              "            downloaded += buffer.byteLength;\n",
              "            progress.value = downloaded;\n",
              "          }\n",
              "        }\n",
              "      }\n",
              "      const blob = new Blob(buffers, {type: 'application/binary'});\n",
              "      const a = document.createElement('a');\n",
              "      a.href = window.URL.createObjectURL(blob);\n",
              "      a.download = filename;\n",
              "      div.appendChild(a);\n",
              "      a.click();\n",
              "      div.remove();\n",
              "    }\n",
              "  "
            ]
          },
          "metadata": {}
        },
        {
          "output_type": "display_data",
          "data": {
            "text/plain": [
              "<IPython.core.display.Javascript object>"
            ],
            "application/javascript": [
              "download(\"download_801202ff-c7ee-458a-8b1b-a9880dcc7672\", \"validation.csv\", 951144154)"
            ]
          },
          "metadata": {}
        }
      ]
    },
    {
      "cell_type": "code",
      "source": [
        "df_test.to_csv('test.csv', encoding = 'utf-8-sig') \n",
        "files.download('test.csv')"
      ],
      "metadata": {
        "colab": {
          "base_uri": "https://localhost:8080/",
          "height": 17
        },
        "id": "cb49ojqA1Mch",
        "outputId": "3a212b14-feaf-4821-e423-33d9e10fcc38"
      },
      "execution_count": 32,
      "outputs": [
        {
          "output_type": "display_data",
          "data": {
            "text/plain": [
              "<IPython.core.display.Javascript object>"
            ],
            "application/javascript": [
              "\n",
              "    async function download(id, filename, size) {\n",
              "      if (!google.colab.kernel.accessAllowed) {\n",
              "        return;\n",
              "      }\n",
              "      const div = document.createElement('div');\n",
              "      const label = document.createElement('label');\n",
              "      label.textContent = `Downloading \"${filename}\": `;\n",
              "      div.appendChild(label);\n",
              "      const progress = document.createElement('progress');\n",
              "      progress.max = size;\n",
              "      div.appendChild(progress);\n",
              "      document.body.appendChild(div);\n",
              "\n",
              "      const buffers = [];\n",
              "      let downloaded = 0;\n",
              "\n",
              "      const channel = await google.colab.kernel.comms.open(id);\n",
              "      // Send a message to notify the kernel that we're ready.\n",
              "      channel.send({})\n",
              "\n",
              "      for await (const message of channel.messages) {\n",
              "        // Send a message to notify the kernel that we're ready.\n",
              "        channel.send({})\n",
              "        if (message.buffers) {\n",
              "          for (const buffer of message.buffers) {\n",
              "            buffers.push(buffer);\n",
              "            downloaded += buffer.byteLength;\n",
              "            progress.value = downloaded;\n",
              "          }\n",
              "        }\n",
              "      }\n",
              "      const blob = new Blob(buffers, {type: 'application/binary'});\n",
              "      const a = document.createElement('a');\n",
              "      a.href = window.URL.createObjectURL(blob);\n",
              "      a.download = filename;\n",
              "      div.appendChild(a);\n",
              "      a.click();\n",
              "      div.remove();\n",
              "    }\n",
              "  "
            ]
          },
          "metadata": {}
        },
        {
          "output_type": "display_data",
          "data": {
            "text/plain": [
              "<IPython.core.display.Javascript object>"
            ],
            "application/javascript": [
              "download(\"download_6b1c6ae1-b4c9-4924-888d-4a7f73db2b94\", \"test.csv\", 637590850)"
            ]
          },
          "metadata": {}
        }
      ]
    }
  ]
}