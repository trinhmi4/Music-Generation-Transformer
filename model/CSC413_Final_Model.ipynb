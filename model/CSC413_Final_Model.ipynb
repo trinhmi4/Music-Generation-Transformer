{
  "cells": [
    {
      "cell_type": "code",
      "execution_count": null,
      "id": "1330db2a-3b3d-498d-be1c-46e857384499",
      "metadata": {
        "id": "1330db2a-3b3d-498d-be1c-46e857384499"
      },
      "outputs": [],
      "source": [
        "!conda install -c anaconda mingw\n",
        "!conda install -c conda-forge fluidsynth"
      ]
    },
    {
      "cell_type": "markdown",
      "id": "7bb67f29-7b2b-4e05-9a27-b80ea9beee9f",
      "metadata": {
        "id": "7bb67f29-7b2b-4e05-9a27-b80ea9beee9f"
      },
      "source": [
        "# IMPORTS"
      ]
    },
    {
      "cell_type": "code",
      "execution_count": null,
      "id": "12eb0fd0-e652-4ca0-8cf8-7301ab4e1129",
      "metadata": {
        "id": "12eb0fd0-e652-4ca0-8cf8-7301ab4e1129"
      },
      "outputs": [],
      "source": [
        "import os\n",
        "import random\n",
        "import numpy as np\n",
        "import pandas as pd\n",
        "import numpy as np\n",
        "import matplotlib.pyplot as plt\n",
        "\n",
        "import tensorflow as tf\n",
        "import numpy as np\n",
        "from tensorflow.keras import layers, Model\n",
        "from tensorflow.keras.layers import Input, Embedding, MultiHeadAttention, Dense, LayerNormalization, Dropout\n",
        "from tensorflow.keras.models import Model\n",
        "from tensorflow.keras.callbacks import EarlyStopping\n",
        "from sklearn.model_selection import train_test_split"
      ]
    },
    {
      "cell_type": "code",
      "execution_count": null,
      "id": "24d35fad-6b0c-4af5-9590-3b15ab7c3f4f",
      "metadata": {
        "id": "24d35fad-6b0c-4af5-9590-3b15ab7c3f4f"
      },
      "outputs": [],
      "source": [
        "print(\"Num GPUs Available: \", len(tf.config.experimental.list_physical_devices('GPU')))\n",
        "tf.test.is_built_with_cuda()"
      ]
    },
    {
      "cell_type": "markdown",
      "id": "2fd26f41-95a6-4e48-a2ba-2dfab8e668f0",
      "metadata": {
        "id": "2fd26f41-95a6-4e48-a2ba-2dfab8e668f0"
      },
      "source": [
        "# DATA LOADING"
      ]
    },
    {
      "cell_type": "code",
      "execution_count": null,
      "id": "cb06ed99-1f09-432f-9941-8dfa8773cc2a",
      "metadata": {
        "id": "cb06ed99-1f09-432f-9941-8dfa8773cc2a"
      },
      "outputs": [],
      "source": [
        "midi_folder = 'C:\\\\Users\\\\Ali--\\\\Documents\\\\midi_100'\n",
        "\n",
        "dataset_files = []\n",
        "i = 0\n",
        "for f in os.listdir(midi_folder):\n",
        "  if i <= 100:\n",
        "    if f !=\".ipynb_checkpoints\":\n",
        "      dataset_files.append(os.path.join(midi_folder, f))\n",
        "  else:\n",
        "    break\n",
        "  i += 1"
      ]
    },
    {
      "cell_type": "code",
      "execution_count": null,
      "id": "61030590-1553-4ef1-b15f-abc8b7efc7fa",
      "metadata": {
        "id": "61030590-1553-4ef1-b15f-abc8b7efc7fa"
      },
      "outputs": [],
      "source": [
        "from midi2audio import FluidSynth\n",
        "from IPython.display import Audio\n",
        "\n",
        "def play_midi(midi_filename):\n",
        "    \"\"\"Call `play_midi` with a path to a midi file will show a midi player on Google Colab.\"\"\"\n",
        "    FluidSynth(\"font.sf2\").midi_to_audio(midi_filename, 'test.wav')\n",
        "    return Audio(\"test.wav\")"
      ]
    },
    {
      "cell_type": "code",
      "execution_count": null,
      "id": "6fbd479b-1bb5-47a8-8b3e-4f0f6b3fc721",
      "metadata": {
        "id": "6fbd479b-1bb5-47a8-8b3e-4f0f6b3fc721"
      },
      "outputs": [],
      "source": [
        "from mido import MidiFile, MidiTrack\n",
        "\n",
        "def get_midi_file_notes(filename):\n",
        "    \"\"\"Returns the sequence of notes played in the midi file\n",
        "    There are 128 possible notes on a MIDI device, and they are numbered 0 to 127.\n",
        "    The middle C is note number 60. Larger numbers indiciate higher pitch notes,\n",
        "    and lower numbers indicate lower pitch notes.\n",
        "\n",
        "    You can read more about the midi representation below, but it is not\n",
        "    necessary for this assignment.\n",
        "    http://midi.teragonaudio.com/tech/midispec/noteon.htm\n",
        "    \"\"\"\n",
        "    notes = []\n",
        "    for msg in  MidiFile(filename):\n",
        "        if msg.type == 'note_on':\n",
        "            notes.append(msg.note)\n",
        "    return notes"
      ]
    },
    {
      "cell_type": "markdown",
      "id": "357643f4-5a2a-4d9d-9daa-fbdace05f182",
      "metadata": {
        "id": "357643f4-5a2a-4d9d-9daa-fbdace05f182"
      },
      "source": [
        "# DATA TRANSFORMATION"
      ]
    },
    {
      "cell_type": "code",
      "execution_count": null,
      "id": "ffe1a75d-dff6-4cb4-b8db-ff4dd65c6515",
      "metadata": {
        "id": "ffe1a75d-dff6-4cb4-b8db-ff4dd65c6515"
      },
      "outputs": [],
      "source": [
        "CONTEXT_LENGTH = 250\n",
        "def gen_input_output(notes, context_length=CONTEXT_LENGTH):\n",
        "    \"\"\"\n",
        "    Generate a list of training data points, each of the form (x, t),\n",
        "    where \"x\" is a list of length `context_length` consisting of the\n",
        "    previous notes, and \"t\" is the corresponding next note.\n",
        "\n",
        "    Parameters:\n",
        "        `notes` - a sequence of notes in a piece, generated\n",
        "                  from calling `get_midi_file_notes`\n",
        "        `context_length` - length of each context\n",
        "\n",
        "    Returns: a list of training pairs (x, t), with len(x) == context_length\n",
        "    \"\"\"\n",
        "    D = []\n",
        "    for i in range(len(notes) - context_length):\n",
        "        seq = notes[i:i+context_length]\n",
        "        next_note = notes[i+context_length]\n",
        "        D.append((seq, next_note),)\n",
        "    \n",
        "    D.append((notes[-context_length:], 0),)\n",
        "    # Since the note 0 never appears in any of our pieces,\n",
        "    # we use note 0 to denote END OF SONG. In general, we choose\n",
        "    # a special value to denote the END OF SONG (usually a new\n",
        "    # category that doesn't match an actual note), so that our\n",
        "    # model might learn to end a song.\n",
        "    return D"
      ]
    },
    {
      "cell_type": "code",
      "execution_count": null,
      "id": "5a4b0b81-3b5e-4d4d-9d71-7cc59b089478",
      "metadata": {
        "id": "5a4b0b81-3b5e-4d4d-9d71-7cc59b089478"
      },
      "outputs": [],
      "source": [
        "def get_X_t_new(D):\n",
        "    \"\"\"\n",
        "    Generate the data matrix \"X\" and target vector \"t\" from a data set \"D\",\n",
        "\n",
        "    Parameters:\n",
        "        `D` - a list of pairs of the form (x, t), returned from\n",
        "              the function `gen_input_output`\n",
        "\n",
        "    Returns: a tuple (X, t) where\n",
        "        `X` - a numpy array of shape (N, D), the data matrix\n",
        "        `t` - a numpy array of shape (N,),\n",
        "              with each value representing the index of the target note\n",
        "    \"\"\"\n",
        "    t = np.array([next_note for seq, next_note in D])\n",
        "    X = np.array([seq for seq, next_note in D])\n",
        "    return X, t"
      ]
    },
    {
      "cell_type": "code",
      "execution_count": null,
      "id": "babecb08-0484-41d2-9a96-79566c949b10",
      "metadata": {
        "id": "babecb08-0484-41d2-9a96-79566c949b10"
      },
      "outputs": [],
      "source": [
        "def generate_data_for_files(files):\n",
        "    Xs, ts = [], []\n",
        "    for file in files:\n",
        "        try:\n",
        "          notes = get_midi_file_notes(file)\n",
        "          if (len(notes) > 250) and (len(notes) < 20000):\n",
        "            D = gen_input_output(notes)\n",
        "            X, t = get_X_t_new(D)\n",
        "            Xs.append(X)\n",
        "            ts.append(t)\n",
        "        except Exception as e:\n",
        "          print(f\"song:{file}   error:{e}\")\n",
        "    X = np.concatenate(Xs, axis=0)\n",
        "    t = np.concatenate(ts, axis=0)\n",
        "    return X, t"
      ]
    },
    {
      "cell_type": "markdown",
      "id": "257ff6b9-1480-4650-8aaf-1d5449da6b85",
      "metadata": {
        "id": "257ff6b9-1480-4650-8aaf-1d5449da6b85"
      },
      "source": [
        "### Data"
      ]
    },
    {
      "cell_type": "code",
      "execution_count": null,
      "id": "d2093429-5379-47eb-b4ed-c7646082ba60",
      "metadata": {
        "id": "d2093429-5379-47eb-b4ed-c7646082ba60"
      },
      "outputs": [],
      "source": [
        "X2, t2 = generate_data_for_files(dataset_files[:])"
      ]
    },
    {
      "cell_type": "code",
      "execution_count": null,
      "id": "75622dd3-3c19-4b16-b4e5-db9da1aae6a3",
      "metadata": {
        "id": "75622dd3-3c19-4b16-b4e5-db9da1aae6a3"
      },
      "outputs": [],
      "source": [
        "X2_train, X2_test, t2_train, t2_test = train_test_split(X2, t2, test_size=0.2, random_state=42)\n",
        "X2_train, X2_val, t2_train, t2_val = train_test_split(X2_train, t2_train, test_size=0.25, random_state=42)"
      ]
    },
    {
      "cell_type": "markdown",
      "id": "6d2d7b57-1ca8-404b-bcf0-8f987ef278d0",
      "metadata": {
        "id": "6d2d7b57-1ca8-404b-bcf0-8f987ef278d0"
      },
      "source": [
        "# MODEL"
      ]
    },
    {
      "cell_type": "code",
      "execution_count": null,
      "id": "e299c7d4-6f66-4225-a1b8-4c32a7542134",
      "metadata": {
        "id": "e299c7d4-6f66-4225-a1b8-4c32a7542134"
      },
      "outputs": [],
      "source": [
        "class PositionalEncoding(layers.Layer):\n",
        "    def __init__(self, d_model, **kwargs):\n",
        "        super(PositionalEncoding, self).__init__(**kwargs)\n",
        "        self.d_model = d_model\n",
        "\n",
        "    def get_angles(self, positions, i, d_model):\n",
        "        angles = 1 / np.power(10000, (2 * (i // 2)) / np.float32(d_model))\n",
        "        return positions * angles\n",
        "\n",
        "    def call(self, inputs):\n",
        "        seq_length = inputs.shape.as_list()[1]\n",
        "        positions = np.arange(seq_length)[:, np.newaxis]\n",
        "        i = np.arange(self.d_model)[np.newaxis, :]\n",
        "        angle_rads = self.get_angles(positions, i, self.d_model)\n",
        "\n",
        "        # Apply sine to even indices in the array; 2i\n",
        "        angle_rads[:, 0::2] = np.sin(angle_rads[:, 0::2])\n",
        "\n",
        "        # Apply cosine to odd indices in the array; 2i + 1\n",
        "        angle_rads[:, 1::2] = np.cos(angle_rads[:, 1::2])\n",
        "\n",
        "        pos_encoding = angle_rads[np.newaxis, ...]\n",
        "\n",
        "        return inputs + tf.cast(pos_encoding, dtype=tf.float32)"
      ]
    },
    {
      "cell_type": "code",
      "execution_count": null,
      "id": "1cd14a04-3241-4aed-a353-1e6bbf5b54c0",
      "metadata": {
        "id": "1cd14a04-3241-4aed-a353-1e6bbf5b54c0"
      },
      "outputs": [],
      "source": [
        "def build_transformer(num_notes, context_len, d_model, num_heads,\n",
        "                      num_layers, dropout_rate):\n",
        "    # input layers initialization\n",
        "    inputs = layers.Input(shape=(context_len,))\n",
        "    \n",
        "    # embedding layer\n",
        "    x = layers.Embedding(num_notes, d_model)(inputs)\n",
        "\n",
        "    # normalize\n",
        "    x = layers.LayerNormalization(epsilon=0.000001)(x)\n",
        "    \n",
        "    # positional encoding\n",
        "    x = PositionalEncoding(d_model)(x)\n",
        "\n",
        "    # 2 layer blocks to start\n",
        "    for i in range(num_layers):\n",
        "        # attention layer\n",
        "        attention = layers.MultiHeadAttention(num_heads, d_model // num_heads,\n",
        "                                              dropout=dropout_rate)(x, x)  \n",
        "        # add & normalize\n",
        "        x = layers.Add()([x, attention])\n",
        "        x = layers.LayerNormalization()(x)\n",
        "\n",
        "        # Feed Forward layer\n",
        "        feed_forward = layers.Dense(d_model, activation='relu')(x)\n",
        "        x = layers.Add()([x, feed_forward])\n",
        "        x = layers.LayerNormalization()(x)\n",
        "    \n",
        "    # Final Pooling, dropout and softmax\n",
        "    x = layers.GlobalAveragePooling1D()(x)\n",
        "    x = layers.Dropout(dropout_rate)(x)\n",
        "    x = layers.Dense(num_notes, activation='softmax')(x)\n",
        "\n",
        "    return Model(inputs, x)\n"
      ]
    },
    {
      "cell_type": "markdown",
      "id": "211dc953-0bb4-422f-bd33-eefeaf05edd0",
      "metadata": {
        "id": "211dc953-0bb4-422f-bd33-eefeaf05edd0"
      },
      "source": [
        "# HYPERPARAMETER TUNING"
      ]
    },
    {
      "cell_type": "code",
      "execution_count": null,
      "id": "2e497270-bb2a-4402-ac08-2a2fb1e549a8",
      "metadata": {
        "id": "2e497270-bb2a-4402-ac08-2a2fb1e549a8"
      },
      "outputs": [],
      "source": [
        "from keras_tuner import HyperModel\n",
        "from keras_tuner.tuners import BayesianOptimization\n",
        "\n",
        "def build_transformer_tuning(hp):\n",
        "    context_len = 250\n",
        "    num_notes = 128\n",
        "\n",
        "    d_model = hp.Int('d_model', min_value=128, max_value=512, step=128)\n",
        "    num_heads = hp.Int('num_heads', min_value=4, max_value=8, step=2)\n",
        "    num_layers = hp.Int('num_layers', min_value=3, max_value=5, step=1)\n",
        "    dropout_rate = hp.Float('dropout_rate', min_value=0.1, max_value=0.3, step=0.1)\n",
        "\n",
        "    model = build_transformer(num_notes, context_len, d_model, num_heads, num_layers, dropout_rate)\n",
        "\n",
        "    learning_rate = hp.Float('learning_rate', min_value=1e-6, max_value=1e-4, sampling='LOG')\n",
        "    decay_steps = hp.Int('decay_steps', min_value=1000, max_value=10000, step=1000)\n",
        "    decay_rate = hp.Float('decay_rate', min_value=0.9, max_value=0.99, step=0.01)\n",
        "\n",
        "    lr_schedule = tf.keras.optimizers.schedules.ExponentialDecay(\n",
        "        initial_learning_rate=learning_rate,\n",
        "        decay_steps=decay_steps,\n",
        "        decay_rate=decay_rate,\n",
        "        staircase=True\n",
        "    )\n",
        "\n",
        "    optimizer = tf.keras.optimizers.Adam(learning_rate=lr_schedule)\n",
        "\n",
        "    model.compile(optimizer=optimizer, loss='sparse_categorical_crossentropy', metrics=['accuracy'])\n",
        "    return model\n"
      ]
    },
    {
      "cell_type": "code",
      "execution_count": null,
      "id": "0cda6382-3813-4aab-af22-951a76f94c7b",
      "metadata": {
        "id": "0cda6382-3813-4aab-af22-951a76f94c7b"
      },
      "outputs": [],
      "source": [
        "tuner = BayesianOptimization(\n",
        "    build_transformer_tuning,\n",
        "    objective='val_accuracy',\n",
        "    max_trials=10,\n",
        "    executions_per_trial=1,\n",
        "    overwrite=True\n",
        ")\n",
        "\n",
        "early_stopping = EarlyStopping(monitor='val_loss', patience=3, verbose=1, restore_best_weights=True)"
      ]
    },
    {
      "cell_type": "code",
      "execution_count": null,
      "id": "6c1c6ce0-3371-4d53-9a8d-b2618f0e16f3",
      "metadata": {
        "id": "6c1c6ce0-3371-4d53-9a8d-b2618f0e16f3"
      },
      "outputs": [],
      "source": [
        "tuner.search(X2_train, t2_train, epochs=10, validation_data=(X_val, t_val), callbacks=[early_stopping])"
      ]
    },
    {
      "cell_type": "markdown",
      "id": "f2e35335-3974-4bee-89ba-33ada747aa14",
      "metadata": {
        "id": "f2e35335-3974-4bee-89ba-33ada747aa14"
      },
      "source": [
        "# Training"
      ]
    },
    {
      "cell_type": "code",
      "execution_count": null,
      "id": "46abb84d-e006-43e2-adca-bc7d7c9b2e39",
      "metadata": {
        "id": "46abb84d-e006-43e2-adca-bc7d7c9b2e39"
      },
      "outputs": [],
      "source": [
        "# Set Parameters\n",
        "num_notes = 128\n",
        "context_len = 250\n",
        "\n",
        "# Best HyperParameters:\n",
        "d_model = 512\n",
        "num_heads = 6\n",
        "num_layers = 5\n",
        "dropout_rate = 0.1\n",
        "\n",
        "learning_rate = 5.6189e-05\n",
        "decay_steps = 8000\n",
        "decay_rate = 0.9"
      ]
    },
    {
      "cell_type": "code",
      "execution_count": null,
      "id": "5cbc8d2c-33cc-4b8c-b1c4-c23acf3b4978",
      "metadata": {
        "id": "5cbc8d2c-33cc-4b8c-b1c4-c23acf3b4978"
      },
      "outputs": [],
      "source": [
        "model3 = build_transformer(num_notes, context_len, d_model, num_heads, num_layers, dropout_rate)"
      ]
    },
    {
      "cell_type": "code",
      "execution_count": null,
      "id": "58fbffa4-f7b5-4fd1-abae-42b014789f80",
      "metadata": {
        "id": "58fbffa4-f7b5-4fd1-abae-42b014789f80"
      },
      "outputs": [],
      "source": [
        "lr_schedule = tf.keras.optimizers.schedules.ExponentialDecay(\n",
        "    initial_learning_rate=learning_rate,\n",
        "    decay_steps=decay_steps,\n",
        "    decay_rate=decay_rate,\n",
        "    staircase=True\n",
        ")\n",
        "\n",
        "optimizer = tf.keras.optimizers.Adam(learning_rate=lr_schedule)"
      ]
    },
    {
      "cell_type": "code",
      "execution_count": null,
      "id": "7eb24d60-5da1-438b-93ff-39554a04d125",
      "metadata": {
        "id": "7eb24d60-5da1-438b-93ff-39554a04d125"
      },
      "outputs": [],
      "source": [
        "model3.compile(optimizer=optimizer, loss='sparse_categorical_crossentropy', metrics=['accuracy'])"
      ]
    },
    {
      "cell_type": "code",
      "execution_count": null,
      "id": "0e3ae941-bcfd-43f7-be7f-7f7b640d1b61",
      "metadata": {
        "id": "0e3ae941-bcfd-43f7-be7f-7f7b640d1b61"
      },
      "outputs": [],
      "source": [
        "early_stopping = EarlyStopping(monitor='val_loss', patience=2, verbose=1, restore_best_weights=True)"
      ]
    },
    {
      "cell_type": "code",
      "execution_count": null,
      "id": "3c8e2425-2a17-4b4f-b9a4-0e8db0ac4ec6",
      "metadata": {
        "id": "3c8e2425-2a17-4b4f-b9a4-0e8db0ac4ec6",
        "outputId": "f3f58c62-bc8b-496d-b23e-779795ea67b6"
      },
      "outputs": [
        {
          "name": "stdout",
          "output_type": "stream",
          "text": [
            "Epoch 1/12\n",
            "11722/11722 [==============================] - 768s 65ms/step - loss: 2.7915 - accuracy: 0.2281 - val_loss: 2.5242 - val_accuracy: 0.2912\n",
            "Epoch 2/12\n",
            "11722/11722 [==============================] - 968s 83ms/step - loss: 2.3972 - accuracy: 0.3276 - val_loss: 2.2921 - val_accuracy: 0.3594\n",
            "Epoch 3/12\n",
            "11722/11722 [==============================] - 1342s 115ms/step - loss: 2.1693 - accuracy: 0.3902 - val_loss: 2.1347 - val_accuracy: 0.4021\n",
            "Epoch 4/12\n",
            "11722/11722 [==============================] - 1461s 125ms/step - loss: 1.9901 - accuracy: 0.4379 - val_loss: 2.0223 - val_accuracy: 0.4340\n",
            "Epoch 5/12\n",
            "11722/11722 [==============================] - 1232s 105ms/step - loss: 1.8380 - accuracy: 0.4788 - val_loss: 1.9311 - val_accuracy: 0.4618\n",
            "Epoch 6/12\n",
            "11722/11722 [==============================] - 785s 67ms/step - loss: 1.7075 - accuracy: 0.5137 - val_loss: 1.8747 - val_accuracy: 0.4800\n",
            "Epoch 7/12\n",
            "11722/11722 [==============================] - 715s 61ms/step - loss: 1.5929 - accuracy: 0.5450 - val_loss: 1.8135 - val_accuracy: 0.5015\n",
            "Epoch 8/12\n",
            "11722/11722 [==============================] - 716s 61ms/step - loss: 1.4931 - accuracy: 0.5726 - val_loss: 1.7855 - val_accuracy: 0.5101\n",
            "Epoch 9/12\n",
            "11722/11722 [==============================] - 716s 61ms/step - loss: 1.4057 - accuracy: 0.5970 - val_loss: 1.7534 - val_accuracy: 0.5259\n",
            "Epoch 10/12\n",
            "11722/11722 [==============================] - 714s 61ms/step - loss: 1.3304 - accuracy: 0.6176 - val_loss: 1.7334 - val_accuracy: 0.5335\n",
            "Epoch 11/12\n",
            "11722/11722 [==============================] - 708s 60ms/step - loss: 1.2651 - accuracy: 0.6368 - val_loss: 1.7178 - val_accuracy: 0.5412\n",
            "Epoch 12/12\n",
            "11722/11722 [==============================] - 708s 60ms/step - loss: 1.2071 - accuracy: 0.6531 - val_loss: 1.7070 - val_accuracy: 0.5479\n"
          ]
        }
      ],
      "source": [
        "history = model3.fit(X2_train, t2_train, epochs=12, validation_data=(X2_val, t2_val), callbacks=[early_stopping])"
      ]
    },
    {
      "cell_type": "markdown",
      "id": "b902e3ca-2fff-4458-a0bf-d84b47e2450e",
      "metadata": {
        "id": "b902e3ca-2fff-4458-a0bf-d84b47e2450e"
      },
      "source": [
        "# Test Set"
      ]
    },
    {
      "cell_type": "code",
      "execution_count": null,
      "id": "6203692b-5f08-4381-99c3-c47387d264e6",
      "metadata": {
        "id": "6203692b-5f08-4381-99c3-c47387d264e6"
      },
      "outputs": [],
      "source": [
        "np.count_nonzero(t_test == 42) / len(t_test)"
      ]
    },
    {
      "cell_type": "code",
      "execution_count": null,
      "id": "9301f64c-4f32-4726-9d16-a6ac5e92eb9f",
      "metadata": {
        "id": "9301f64c-4f32-4726-9d16-a6ac5e92eb9f",
        "outputId": "ec6aadad-c82b-4ddb-ce6a-4a1eec8237cb"
      },
      "outputs": [
        {
          "name": "stdout",
          "output_type": "stream",
          "text": [
            "3908/3908 [==============================] - 85s 22ms/step - loss: 1.5117 - accuracy: 0.5869\n",
            "Test Loss: 1.5116686820983887\n",
            "Test Accuracy: 0.5869391560554504\n"
          ]
        }
      ],
      "source": [
        "loss, accuracy = model.evaluate(X2_test, t2_test)\n",
        "print(\"Test Loss:\", loss)\n",
        "print(\"Test Accuracy:\", accuracy)"
      ]
    },
    {
      "cell_type": "markdown",
      "id": "6057bef4-54c4-4bd5-87af-00c432ac74f3",
      "metadata": {
        "id": "6057bef4-54c4-4bd5-87af-00c432ac74f3"
      },
      "source": [
        "# GRAPH"
      ]
    },
    {
      "cell_type": "code",
      "execution_count": null,
      "id": "08378153-7c18-46cf-b4b3-3c29388ae847",
      "metadata": {
        "id": "08378153-7c18-46cf-b4b3-3c29388ae847",
        "outputId": "37831b42-a636-413b-9598-c9ec3c7a1c8b"
      },
      "outputs": [
        {
          "data": {
            "text/plain": [
              "<matplotlib.legend.Legend at 0x1140e0c2f40>"
            ]
          },
          "execution_count": 125,
          "metadata": {},
          "output_type": "execute_result"
        },
        {
          "data": {
            "image/png": "[encoded data removed]",
            "text/plain": [
              "<Figure size 640x480 with 1 Axes>"
            ]
          },
          "metadata": {},
          "output_type": "display_data"
        }
      ],
      "source": [
        "train_accs = history.history['accuracy']\n",
        "val_accs = history.history['val_accuracy']\n",
        "\n",
        "x = list(range(1, len(train_accs)+1))\n",
        "plt.title(\"Training vs validation accuracies\")\n",
        "plt.xlabel(\"Number of epochs\")\n",
        "plt.ylabel(\"Accuracy\")\n",
        "\n",
        "plt.plot(x, train_accs, label='Training accuracy')\n",
        "plt.plot(x, val_accs, label='Validation accuracy')\n",
        "plt.legend()"
      ]
    },
    {
      "cell_type": "code",
      "execution_count": null,
      "id": "a17067ff-cee9-4c17-95bc-153917a47a72",
      "metadata": {
        "id": "a17067ff-cee9-4c17-95bc-153917a47a72",
        "outputId": "08f7f727-98f3-4101-cd88-defcb15163b5"
      },
      "outputs": [
        {
          "data": {
            "text/plain": [
              "<matplotlib.legend.Legend at 0x1143e3569d0>"
            ]
          },
          "execution_count": 166,
          "metadata": {},
          "output_type": "execute_result"
        },
        {
          "data": {
            "image/png": "[encoded data removed]",
            "text/plain": [
              "<Figure size 640x480 with 1 Axes>"
            ]
          },
          "metadata": {},
          "output_type": "display_data"
        }
      ],
      "source": [
        "train_loss = history.history['loss']\n",
        "val_loss = history.history['val_loss']\n",
        "\n",
        "x = list(range(1, len(train_loss)+1))\n",
        "plt.title(\"Training vs validation loss\")\n",
        "plt.xlabel(\"Number of epochs\")\n",
        "plt.ylabel(\"loss\")\n",
        "\n",
        "plt.plot(x, train_loss, label='Training loss')\n",
        "plt.plot(x, val_loss, label='Validation loss')\n",
        "plt.legend()"
      ]
    },
    {
      "cell_type": "markdown",
      "id": "f05dd416-2753-404b-8291-2be4653df775",
      "metadata": {
        "id": "f05dd416-2753-404b-8291-2be4653df775"
      },
      "source": [
        "# Generation"
      ]
    },
    {
      "cell_type": "code",
      "execution_count": null,
      "id": "002b274d-da0a-4c95-adfd-77c79b009af9",
      "metadata": {
        "id": "002b274d-da0a-4c95-adfd-77c79b009af9"
      },
      "outputs": [],
      "source": [
        "def generate_midi(notes, outfile):\n",
        "    from mido import MidiFile, MidiTrack, Message\n",
        "\n",
        "    new_mid = MidiFile()\n",
        "    new_track = MidiTrack()\n",
        "    new_mid.tracks.append(new_track)\n",
        "\n",
        "    for note in notes:\n",
        "        new_track.append(Message('note_on', note=note, velocity=64, time=128))\n",
        "    new_mid.save(outfile)"
      ]
    },
    {
      "cell_type": "code",
      "execution_count": null,
      "id": "8996ae29-8ce5-47bd-b6aa-d00f719755bb",
      "metadata": {
        "id": "8996ae29-8ce5-47bd-b6aa-d00f719755bb"
      },
      "outputs": [],
      "source": [
        "def generate_piece(model, seed, max_len=500):\n",
        "    \"\"\"\n",
        "    Generate a piece of music given the model and an initial\n",
        "    \"seed\" sequence of notes at the beginning of the piece.\n",
        "\n",
        "    The piece is generated one note at a time by using, as input\n",
        "    to the model, the previous 20 notes. The model outputs a \n",
        "    probability distribution over the next possible note, and we\n",
        "    will take the most probable note as the next note in our piece.\n",
        "\n",
        "    Parameters:\n",
        "        `model` - an instance of MLPModel\n",
        "        `seed` - a sequence of notes at the beginning of a piece,\n",
        "                 e.g. generated from calling `get_midi_file_notes`\n",
        "                 must be at least as long as context_len\n",
        "        `max_len` - maximum number of total notes in the piece.\n",
        "\n",
        "    Returns: a list of sequence of notes with length at most `max_len`\n",
        "    \"\"\"\n",
        "\n",
        "    generated = seed\n",
        "    while len(generated) < max_len:\n",
        "        # Use the model to predict the next note\n",
        "        seq = generated[-context_len:]\n",
        "\n",
        "        # X = np.reshape(make_onehot(np.array(seq)), (1, context_len, num_notes))\n",
        "        X = np.reshape(seq, (1, context_len))\n",
        "        # print(X.shape)\n",
        "\n",
        "        pred = model.predict(X)\n",
        "        next_note = np.argmax(pred)\n",
        "        print(next_note)\n",
        "\n",
        "        generated = np.append(generated, next_note)\n",
        "    return generated"
      ]
    },
    {
      "cell_type": "code",
      "execution_count": null,
      "id": "5fdf65fc-b5e8-4956-a043-51106c0c35c6",
      "metadata": {
        "id": "5fdf65fc-b5e8-4956-a043-51106c0c35c6"
      },
      "outputs": [],
      "source": [
        "seed = X_val[500] # Can change to anything else (at least context_len away to hear something brand new)\n",
        "# print(seed)\n",
        "\n",
        "notes_randnet = generate_piece(model2, seed)"
      ]
    },
    {
      "cell_type": "code",
      "execution_count": null,
      "id": "4d379e20-6402-4adb-804a-fdbeb7c1d947",
      "metadata": {
        "id": "4d379e20-6402-4adb-804a-fdbeb7c1d947"
      },
      "outputs": [],
      "source": [
        "generate_midi(notes_randnet, 'testing.mid')\n",
        "play_midi('CSC413/testing.mid')"
      ]
    },
    {
      "cell_type": "code",
      "execution_count": null,
      "id": "3182636f-9398-4635-8485-cda8e99bb1b5",
      "metadata": {
        "id": "3182636f-9398-4635-8485-cda8e99bb1b5"
      },
      "outputs": [],
      "source": [
        "model3.Summary()"
      ]
    },
    {
      "cell_type": "code",
      "execution_count": null,
      "id": "7b535d7c-d69b-4c93-8b26-697560ab10fa",
      "metadata": {
        "id": "7b535d7c-d69b-4c93-8b26-697560ab10fa",
        "outputId": "d46acc67-6bfa-4a99-88ed-d7d66e211919"
      },
      "outputs": [
        {
          "name": "stdout",
          "output_type": "stream",
          "text": [
            "prediction vs output: 42 42\n",
            "prediction vs output: 54 54\n",
            "Model prediction: 54\n",
            "Choose-42-model prediction: 42\n",
            "Actual note: 54\n"
          ]
        }
      ],
      "source": [
        "for i in range(len(X_test)):\n",
        "    t = t_train[i]\n",
        "    x = np.reshape(X_train[i], (1 ,context_len))\n",
        "    pred = np.argmax(model3.predict(x))\n",
        "    print(\"prediction vs output:\", pred, t)\n",
        "    if (pred == t) and (pred != 42):\n",
        "        print(\"Model prediction:\", pred)\n",
        "        print(\"Choose-42-model prediction:\", 42)\n",
        "        print(\"Actual note:\", t)\n",
        "        break"
      ]
    },
    {
      "cell_type": "code",
      "execution_count": null,
      "id": "a9be03e9-b284-41cc-9885-b45802b83c5c",
      "metadata": {
        "id": "a9be03e9-b284-41cc-9885-b45802b83c5c"
      },
      "outputs": [],
      "source": [
        "model3.save('CSC413')"
      ]
    },
    {
      "cell_type": "code",
      "execution_count": null,
      "id": "9d573ab5-bd5b-4b81-9783-72ea8310cd8f",
      "metadata": {
        "id": "9d573ab5-bd5b-4b81-9783-72ea8310cd8f"
      },
      "outputs": [],
      "source": [
        "model5 = tf.keras.models.load_model('CSC413')"
      ]
    },
    {
      "cell_type": "code",
      "execution_count": null,
      "id": "ed4e502d-c125-4b5f-b201-a47b826c847c",
      "metadata": {
        "id": "ed4e502d-c125-4b5f-b201-a47b826c847c",
        "outputId": "17dfadbc-255d-4e9c-82c6-8da48e53357d"
      },
      "outputs": [
        {
          "name": "stdout",
          "output_type": "stream",
          "text": [
            "3908/3908 [==============================] - 187s 48ms/step - loss: 1.7135 - accuracy: 0.5496\n",
            "Test Loss: 1.7134736776351929\n",
            "Test Accuracy: 0.5495641231536865\n"
          ]
        }
      ],
      "source": [
        "loss, accuracy = model5.evaluate(X2_test, t2_test)\n",
        "print(\"Test Loss:\", loss)\n",
        "print(\"Test Accuracy:\", accuracy)"
      ]
    }
  ],
  "metadata": {
    "kernelspec": {
      "display_name": "Python 3 (ipykernel)",
      "language": "python",
      "name": "python3"
    },
    "language_info": {
      "codemirror_mode": {
        "name": "ipython",
        "version": 3
      },
      "file_extension": ".py",
      "mimetype": "text/x-python",
      "name": "python",
      "nbconvert_exporter": "python",
      "pygments_lexer": "ipython3",
      "version": "3.9.16"
    },
    "colab": {
      "provenance": []
    }
  },
  "nbformat": 4,
  "nbformat_minor": 5
}
